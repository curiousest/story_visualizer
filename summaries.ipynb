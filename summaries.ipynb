{
 "cells": [
  {
   "cell_type": "code",
   "execution_count": 1,
   "outputs": [
    {
     "name": "stderr",
     "output_type": "stream",
     "text": [
      "[nltk_data] Downloading package omw-1.4 to\n",
      "[nltk_data]     /Users/Douglas.Hindson/nltk_data...\n",
      "[nltk_data]   Package omw-1.4 is already up-to-date!\n",
      "[nltk_data] Downloading package wordnet to\n",
      "[nltk_data]     /Users/Douglas.Hindson/nltk_data...\n",
      "[nltk_data]   Package wordnet is already up-to-date!\n",
      "[nltk_data] Downloading package stopwords to\n",
      "[nltk_data]     /Users/Douglas.Hindson/nltk_data...\n",
      "[nltk_data]   Package stopwords is already up-to-date!\n"
     ]
    }
   ],
   "source": [
    "from story_visualizer.summarizer import get_word_frequencies, preprocess_text, get_summary_words\n",
    "from story_visualizer.chunker import text_to_chapter_paragraph, get_text, BASE_TEXT_FOLDER\n",
    "from pprint import pprint"
   ],
   "metadata": {
    "collapsed": false,
    "pycharm": {
     "name": "#%%\n"
    }
   }
  },
  {
   "cell_type": "code",
   "execution_count": 2,
   "outputs": [],
   "source": [
    "text_body_filename = \"alice_in_wonderland_gutenberg.txt\"\n",
    "\n",
    "text_body = get_text(\n",
    "    f\"{BASE_TEXT_FOLDER}/{text_body_filename}\",\n",
    "    \"https://www.gutenberg.org/files/11/11-0.txt\",\n",
    ")"
   ],
   "metadata": {
    "collapsed": false,
    "pycharm": {
     "name": "#%%\n"
    }
   }
  },
  {
   "cell_type": "code",
   "execution_count": 3,
   "outputs": [],
   "source": [
    "chapters = text_to_chapter_paragraph(text_body)\n",
    "chapter1 = chapters[1]"
   ],
   "metadata": {
    "collapsed": false,
    "pycharm": {
     "name": "#%%\n"
    }
   }
  },
  {
   "cell_type": "code",
   "execution_count": 8,
   "outputs": [],
   "source": [
    "all_word_frequencies = []\n",
    "all_combined_word_frequencies = []\n",
    "for chapter in chapters:\n",
    "    processed = [preprocess_text(p) for p in chapter]\n",
    "    word_frequencies = [get_word_frequencies(p) for p in processed]\n",
    "    combined_word_frequencies = {}\n",
    "    for word_freq in word_frequencies:\n",
    "        for word, freq in word_freq.items():\n",
    "            combined_word_frequencies[word] = combined_word_frequencies.get(word, 0) + freq\n",
    "    all_word_frequencies.append(word_frequencies)\n",
    "    all_combined_word_frequencies.append(combined_word_frequencies)"
   ],
   "metadata": {
    "collapsed": false,
    "pycharm": {
     "name": "#%%\n"
    }
   }
  },
  {
   "cell_type": "code",
   "execution_count": 9,
   "outputs": [
    {
     "name": "stdout",
     "output_type": "stream",
     "text": [
      "('chapter', 'locate', 'ebook', 'alice')\n",
      "('alice', 'think', 'way', 'door')\n",
      "('alice', 'go', 'mouse', 'foot')\n",
      "('mouse', 'say', 'alice', 'dodo')\n",
      "('alice', 'say', 'rabbit', 'bill')\n",
      "('alice', 'say', 'caterpillar', 'pigeon')\n",
      "('alice', 'say', 'cat', 'duchess')\n",
      "('alice', 'say', 'hatter', 'dormouse')\n",
      "('queen', 'say', 'alice', 'head')\n",
      "('alice', 'say', 'mock', 'turtle')\n",
      "('gryphon', 'say', 'turtle', 'mock')\n",
      "('king', 'say', 'hatter', 'court')\n",
      "('project', 'say', 'work', 'gutenberg')\n"
     ]
    }
   ],
   "source": [
    "#pprint(sorted(combined_word_frequencies.items(), key=lambda a: a[1], reverse=True))\n",
    "for wf in all_combined_word_frequencies:\n",
    "    if wf:\n",
    "        pprint(get_summary_words(wf))"
   ],
   "metadata": {
    "collapsed": false,
    "pycharm": {
     "name": "#%%\n"
    }
   }
  },
  {
   "cell_type": "code",
   "execution_count": 5,
   "outputs": [],
   "source": [],
   "metadata": {
    "collapsed": false,
    "pycharm": {
     "name": "#%%\n"
    }
   }
  },
  {
   "cell_type": "code",
   "execution_count": 5,
   "outputs": [],
   "source": [],
   "metadata": {
    "collapsed": false,
    "pycharm": {
     "name": "#%%\n"
    }
   }
  },
  {
   "cell_type": "code",
   "execution_count": 5,
   "outputs": [],
   "source": [],
   "metadata": {
    "collapsed": false,
    "pycharm": {
     "name": "#%%\n"
    }
   }
  }
 ],
 "metadata": {
  "kernelspec": {
   "display_name": "Python 3",
   "language": "python",
   "name": "python3"
  },
  "language_info": {
   "codemirror_mode": {
    "name": "ipython",
    "version": 2
   },
   "file_extension": ".py",
   "mimetype": "text/x-python",
   "name": "python",
   "nbconvert_exporter": "python",
   "pygments_lexer": "ipython2",
   "version": "2.7.6"
  }
 },
 "nbformat": 4,
 "nbformat_minor": 0
}